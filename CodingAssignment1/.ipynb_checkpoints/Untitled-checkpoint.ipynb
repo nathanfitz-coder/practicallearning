{
 "cells": [
  {
   "cell_type": "markdown",
   "metadata": {},
   "source": [
    "# Coding Assignment 1"
   ]
  },
  {
   "cell_type": "markdown",
   "metadata": {},
   "source": [
    "### CS 598\n",
    "Nathan Fitzpatrick (johnnf2)"
   ]
  },
  {
   "cell_type": "code",
   "execution_count": 2,
   "metadata": {},
   "outputs": [],
   "source": [
    "import numpy as np\n",
    "import matplotlib.pyplot as plt\n",
    "import pandas as pd\n",
    "import seaborn as sns\n",
    "import matplotlib.style as style\n",
    "import random\n",
    "from sklearn.neighbors import KNeighborsClassifier as knn\n",
    "from sklearn import linear_model as lm\n",
    "from sklearn.preprocessing import PolynomialFeatures\n",
    "from sklearn.pipeline import Pipeline"
   ]
  },
  {
   "cell_type": "markdown",
   "metadata": {},
   "source": [
    "## Function to generate data"
   ]
  },
  {
   "cell_type": "code",
   "execution_count": 3,
   "metadata": {},
   "outputs": [],
   "source": [
    "def generate_data(ntrain, ntest,nclusters = 10,p = 2, s = 1):\n",
    "    \n",
    "    m1 = np.random.normal(size = (nclusters, p)) * s \\\n",
    "         + np.concatenate([np.array([[1, 0]] * nclusters)])\n",
    "    m0 = np.random.normal(size = (nclusters, p)) * s \\\n",
    "         + np.concatenate([np.array([[0, 1]] * nclusters)])\n",
    "     \n",
    "    \n",
    "    # Randomly allocate the n samples for class 1  to the 10 clusters\n",
    "    id1 = np.random.randint(nclusters, size = ntrain)\n",
    "    id0 = np.random.randint(nclusters, size = ntrain)\n",
    "    \n",
    "    \n",
    "    # sd for generating x  \n",
    "    s = np.sqrt(float(1)/5) \n",
    "    \n",
    "    traindata = np.random.normal(size = (2 * ntrain, p)) * s \\\n",
    "                + np.concatenate([m1[id1,:], m0[id0,:]])\n",
    "    ytrain = np.concatenate(([1]*ntrain, [0]*ntrain))\n",
    "    \n",
    "    id1 = np.random.randint(nclusters, size = ntest)\n",
    "    id0 = np.random.randint(nclusters, size = ntest)\n",
    "    \n",
    "    \n",
    "    testdata = np.random.normal(size = (2 * ntest, p)) * s \\\n",
    "                + np.concatenate([m1[id1,:], m0[id0,:]])\n",
    "    ytest = np.concatenate(([1]*ntest, [0]*ntest))\n",
    "    \n",
    "    return traindata, ytrain, testdata, ytest, m1, m0"
   ]
  },
  {
   "cell_type": "markdown",
   "metadata": {},
   "source": [
    "## Function for plotting data"
   ]
  },
  {
   "cell_type": "code",
   "execution_count": 4,
   "metadata": {},
   "outputs": [],
   "source": [
    "def plot_scatter_data(data, m1, m0):\n",
    "    traindata = data\n",
    "    plt.scatter(traindata[:ntrain, 0], traindata[:ntrain, 1], c = \"blue\", alpha=0.2, label='Class 1')\n",
    "    plt.scatter(traindata[ntrain:, 0], traindata[ntrain:, 1], c = \"red\", alpha=0.2, label='Class 0')\n",
    "    \n",
    "    plt.scatter(m1[:,0], m1[:,1], marker = '+', s = 100, c = \"blue\")\n",
    "    plt.scatter(m0[:,0], m0[:,1], marker = '+', s = 100, c = \"red\")\n",
    "    \n",
    "    plt.legend()\n",
    "    plt.show()\n"
   ]
  },
  {
   "cell_type": "markdown",
   "metadata": {},
   "source": [
    "## Linear Regression"
   ]
  },
  {
   "cell_type": "code",
   "execution_count": 5,
   "metadata": {},
   "outputs": [],
   "source": [
    "def linear_regression(traindata, testdata, ytrain, ytest, ntrain, ntest):\n",
    "    RegModel = lm.LinearRegression()\n",
    "    RegModel.fit(traindata, ytrain)\n",
    "    \n",
    "    Ytrain_pred_LS = RegModel.predict(traindata)\n",
    "    Ytest_pred_LS = RegModel.predict(testdata)\n",
    "    \n",
    "    Ytrain_pred_LS = [1 if i >= 0.5 else 0 for i in Ytrain_pred_LS]\n",
    "    Ytest_pred_LS = [1 if i >= 0.5 else 0 for i in Ytest_pred_LS]\n",
    "    \n",
    "    train_err_LS = sum(ytrain != Ytrain_pred_LS) / float(2*ntrain)\n",
    "    test_err_LS = sum(ytest != Ytest_pred_LS) / float(2*ntest)\n",
    "    return train_err_LS, test_err_LS"
   ]
  },
  {
   "cell_type": "markdown",
   "metadata": {},
   "source": [
    "## Quadratic Regression"
   ]
  },
  {
   "cell_type": "code",
   "execution_count": 6,
   "metadata": {},
   "outputs": [],
   "source": [
    "def quadratic_regression(traindata, testdata, ytrain, ytest, ntrain, ntest):\n",
    "    QuadModel = Pipeline([('poly', PolynomialFeatures(degree=2)),\n",
    "                          ('linear', lm.LinearRegression(fit_intercept=False))])\n",
    "    \n",
    "    QuadModel.fit(traindata, ytrain)\n",
    "    \n",
    "    Ytrain_pred_QM = QuadModel.predict(traindata)\n",
    "    Ytest_pred_QM = QuadModel.predict(testdata)\n",
    "    \n",
    "    Ytrain_pred_QM = [1 if i >= 0.5 else 0 for i in Ytrain_pred_QM]\n",
    "    Ytest_pred_QM = [1 if i >= 0.5 else 0 for i in Ytest_pred_QM]\n",
    "    \n",
    "    train_err_QM = sum(ytrain != Ytrain_pred_QM) / float(2*ntrain)\n",
    "    test_err_QM = sum(ytest != Ytest_pred_QM) / float(2*ntest)\n",
    "    return train_err_QM, test_err_QM\n"
   ]
  },
  {
   "cell_type": "markdown",
   "metadata": {},
   "source": [
    "## KNN Classifier"
   ]
  },
  {
   "cell_type": "code",
   "execution_count": 7,
   "metadata": {},
   "outputs": [],
   "source": [
    "def knn_classifier(traindata, ytrain, testdata, ytest):\n",
    "    myk = [20, 17, 15, 13, 11, 9, 7, 5, 3, 1]\n",
    "    mykError = []\n",
    "    \n",
    "    rng = np.random.default_rng()\n",
    "    trainDataShuffle = np.hstack((traindata,ytrain.reshape(-1,1)))\n",
    "    rng.shuffle(trainDataShuffle)   \n",
    "    foldNum = 10\n",
    "    foldSize = int(np.floor(len(trainDataShuffle)/foldNum))\n",
    "    foldIndex = np.zeros(trainDataShuffle.shape)\n",
    "    \n",
    "    for j in myk:\n",
    "        myknn = knn(n_neighbors = j)\n",
    "        error = 0\n",
    "        \n",
    "        for fold in range(foldNum): \n",
    "            foldIndex[foldSize*fold:foldSize*(fold+1),:] = 1\n",
    "            trainX = trainDataShuffle[foldIndex==1].reshape(-1,3)[:,0:2]\n",
    "            trainY = trainDataShuffle[foldIndex==1].reshape(-1,3)[:,2]\n",
    "            testX = trainDataShuffle[foldIndex==0].reshape(-1,3)[:,0:2]\n",
    "            testY = trainDataShuffle[foldIndex==0].reshape(-1,3)[:,2]\n",
    "            \n",
    "            myknn.fit(trainX, trainY)\n",
    "            predY = myknn.predict(testX)\n",
    "            errorKNN = np.zeros(predY.shape)\n",
    "            errorKNN[testY!=predY] = 1\n",
    "            error += sum(errorKNN)\n",
    "            foldIndex.fill(0)\n",
    "    \n",
    "        error /= (trainDataShuffle.shape[0]*foldNum)\n",
    "        mykError.append(error)\n",
    "    \n",
    "    chosen_k = myk[np.argmin(mykError)]\n",
    "    myknn = knn(n_neighbors = chosen_k)\n",
    "    myknn.fit(traindata, ytrain)\n",
    "    \n",
    "    train_err_KNN = (1 - myknn.score(traindata, ytrain))\n",
    "    test_err_KNN = (1- myknn.score(testdata, ytest))\n",
    "    return train_err_KNN, test_err_KNN, chosen_k"
   ]
  },
  {
   "cell_type": "markdown",
   "metadata": {},
   "source": [
    "## Bayes Classifier"
   ]
  },
  {
   "cell_type": "code",
   "execution_count": 8,
   "metadata": {},
   "outputs": [],
   "source": [
    "def bayes_classifier(traindata, testdata, ytrain, ytest, m1, m0, ntrain, ntest):\n",
    "    def bayes(x):\n",
    "        m1sum = np.square(m1-x)\n",
    "        m1sum = np.sum(m1sum,axis=1)\n",
    "        m1sum = np.exp(-5*m1sum/2)\n",
    "        m1sum = np.sum(m1sum)\n",
    "        \n",
    "        m0sum = np.square(m0-x)\n",
    "        m0sum = np.sum(m0sum,axis=1)\n",
    "        m0sum = np.exp(-5*m0sum/2)\n",
    "        m0sum = np.sum(m0sum)\n",
    "        return m1sum/m0sum\n",
    "    \n",
    "    Ytrain_pred_Bayes = [int(bayes(x) > 1) for x in traindata]\n",
    "    Ytest_pred_Bayes = [int(bayes(x) > 1) for x in testdata]\n",
    "    \n",
    "    train_err_Bayes = sum(ytrain !=  Ytrain_pred_Bayes) / float(2*ntrain)\n",
    "    test_err_Bayes = sum(ytest !=  Ytest_pred_Bayes) / float(2*ntest)\n",
    "    \n",
    "    return train_err_Bayes, test_err_Bayes"
   ]
  },
  {
   "cell_type": "markdown",
   "metadata": {},
   "source": [
    "### Main code that generates data and calls each classification function 20 times. "
   ]
  },
  {
   "cell_type": "code",
   "execution_count": 15,
   "metadata": {},
   "outputs": [],
   "source": [
    "ntrain=100\n",
    "ntest=5000\n",
    "random.seed(6380)\n",
    "classification_errors = []\n",
    "bestKs = []\n",
    "\n",
    "\n",
    "for i in range(20):\n",
    "    traindata, ytrain, testdata, ytest, m1, m0 = generate_data(ntrain, ntest, nclusters = 10, p = 2, s = 1)\n",
    "    \n",
    "    train_error, test_error = linear_regression(traindata, testdata, ytrain, ytest, ntrain, ntest)\n",
    "    classification_errors.append({'method':'linear','set':'train', 'error':train_error})\n",
    "    classification_errors.append({'method':'linear','set':'test', 'error':test_error})\n",
    "    \n",
    "    train_error, test_error = quadratic_regression(traindata, testdata, ytrain, ytest, ntrain, ntest)\n",
    "    classification_errors.append({'method':'quadratic','set':'train', 'error':train_error})\n",
    "    classification_errors.append({'method':'quadratic','set':'test', 'error':test_error})\n",
    "    \n",
    "    train_error, test_error, k = knn_classifier(traindata, ytrain, testdata, ytest)\n",
    "    classification_errors.append({'method':'knn','set':'train', 'error':train_error})\n",
    "    classification_errors.append({'method':'knn','set':'test', 'error':test_error})\n",
    "    bestKs.append(k)\n",
    "    \n",
    "    train_error, test_error = bayes_classifier(traindata, testdata, ytrain, ytest, m1, m0, ntrain, ntest)\n",
    "    classification_errors.append({'method':'bayes','set':'train', 'error':train_error})\n",
    "    classification_errors.append({'method':'bayes','set':'test', 'error':test_error})\n"
   ]
  },
  {
   "cell_type": "code",
   "execution_count": 16,
   "metadata": {},
   "outputs": [
    {
     "data": {
      "image/png": "[encoded data removed]",
      "text/plain": [
       "<Figure size 921.6x633.6 with 1 Axes>"
      ]
     },
     "metadata": {},
     "output_type": "display_data"
    }
   ],
   "source": [
    "df = pd.DataFrame(classification_errors)\n",
    "\n",
    "sns.set()\n",
    "style.use('seaborn-poster') #sets the size of the charts\n",
    "style.use('ggplot')\n",
    "\n",
    "ax = sns.boxplot(x=\"method\", y=\"error\", hue=\"set\", data=df).set_title('Compare Performance of all Methods')"
   ]
  },
  {
   "cell_type": "code",
   "execution_count": 17,
   "metadata": {},
   "outputs": [
    {
     "data": {
      "image/png": "[encoded data removed]",
      "text/plain": [
       "<Figure size 921.6x633.6 with 1 Axes>"
      ]
     },
     "metadata": {},
     "output_type": "display_data"
    }
   ],
   "source": [
    "bestKdf = pd.DataFrame(list(zip(bestKs,range(len(bestKs)))),columns =['k','index'])\n",
    "ax = sns.barplot(x='index',y='k',data=bestKdf,color='lightblue').set_title('All K''s')"
   ]
  },
  {
   "cell_type": "code",
   "execution_count": 20,
   "metadata": {},
   "outputs": [
    {
     "name": "stdout",
     "output_type": "stream",
     "text": [
      "Mean of best Ks: 3.7\n"
     ]
    }
   ],
   "source": [
    "print('Mean of best K''s: {}'.format(np.array(bestKs).mean()))"
   ]
  },
  {
   "cell_type": "code",
   "execution_count": 21,
   "metadata": {},
   "outputs": [
    {
     "name": "stdout",
     "output_type": "stream",
     "text": [
      "Standard Deviation of best Ks: 2.6286878856189833\n"
     ]
    }
   ],
   "source": [
    "print('Standard Deviation of best K''s: {}'.format(np.array(bestKs).std()))"
   ]
  },
  {
   "cell_type": "code",
   "execution_count": null,
   "metadata": {},
   "outputs": [],
   "source": []
  }
 ],
 "metadata": {
  "kernelspec": {
   "display_name": "Python 3",
   "language": "python",
   "name": "python3"
  },
  "language_info": {
   "codemirror_mode": {
    "name": "ipython",
    "version": 3
   },
   "file_extension": ".py",
   "mimetype": "text/x-python",
   "name": "python",
   "nbconvert_exporter": "python",
   "pygments_lexer": "ipython3",
   "version": "3.7.6"
  }
 },
 "nbformat": 4,
 "nbformat_minor": 4
}
