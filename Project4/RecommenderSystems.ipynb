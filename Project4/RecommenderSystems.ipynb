{
 "cells": [
  {
   "cell_type": "code",
   "execution_count": 15,
   "metadata": {},
   "outputs": [],
   "source": [
    "import pandas as pd\n",
    "import seaborn as sns\n",
    "import numpy as np\n",
    "import sys\n",
    "import time\n",
    "import json\n",
    "from collections import defaultdict\n",
    "from surprise.model_selection import cross_validate\n",
    "from surprise.model_selection import train_test_split\n",
    "from surprise import accuracy\n",
    "from surprise import SVD, CoClustering\n",
    "from surprise import Dataset, Reader\n",
    "from sqlalchemy import create_engine"
   ]
  },
  {
   "cell_type": "markdown",
   "metadata": {},
   "source": [
    "# System I"
   ]
  },
  {
   "cell_type": "code",
   "execution_count": null,
   "metadata": {},
   "outputs": [],
   "source": []
  },
  {
   "cell_type": "code",
   "execution_count": null,
   "metadata": {},
   "outputs": [],
   "source": []
  },
  {
   "cell_type": "code",
   "execution_count": null,
   "metadata": {},
   "outputs": [],
   "source": []
  },
  {
   "cell_type": "code",
   "execution_count": null,
   "metadata": {},
   "outputs": [],
   "source": []
  },
  {
   "cell_type": "code",
   "execution_count": null,
   "metadata": {},
   "outputs": [],
   "source": []
  },
  {
   "cell_type": "markdown",
   "metadata": {},
   "source": [
    "# System II"
   ]
  },
  {
   "cell_type": "code",
   "execution_count": 3,
   "metadata": {},
   "outputs": [],
   "source": [
    "e = create_engine(\"sqlite:///api/moviereviews.db\")\n",
    "\n",
    "ratings = pd.DataFrame(e.execute(\"SELECT UserID,MovieID,Rating FROM ratings\").fetchall()).rename(columns={0: 'UserID', 1: 'MovieID', 2:'Rating'})\n",
    "reader = Reader()\n",
    "data = Dataset.load_from_df(ratings, reader)\n"
   ]
  },
  {
   "cell_type": "code",
   "execution_count": 12,
   "metadata": {},
   "outputs": [
    {
     "name": "stdout",
     "output_type": "stream",
     "text": [
      "RMSE: 0.8565\n",
      "RMSE: 0.8573\n",
      "RMSE: 0.9171\n",
      "RMSE: 0.9141\n"
     ]
    }
   ],
   "source": [
    "\n",
    "\n",
    "# Run 10-fold cross-validation and print results.\n",
    "\n",
    "#cross_validate(algo, data, measures=['RMSE'], cv=10,  verbose=True);\n",
    "\n",
    "\n",
    "accuracy_results=[]\n",
    "\n",
    "for i in range(20):\n",
    "    if i < 10:\n",
    "        algo = SVD(reg_all=0.05, lr_all=0.007, n_epochs=30)\n",
    "        algo_name = 'SVD'\n",
    "    else:\n",
    "        algo = CoClustering()\n",
    "        algo_name = 'CoClustering'\n",
    "\n",
    "    trainset, testset = train_test_split(data, test_size=.25)\n",
    "\n",
    "    # Train the algorithm on the trainset, and predict ratings for the testset\n",
    "    algo.fit(trainset)\n",
    "    predictions = algo.test(testset)\n",
    "\n",
    "    # Then compute RMSE\n",
    "    accuracy_results.append({'algo': algo_name, 'i': i, 'RSME':accuracy.rmse(predictions)})\n",
    "\n",
    "\n"
   ]
  },
  {
   "cell_type": "code",
   "execution_count": 14,
   "metadata": {},
   "outputs": [
    {
     "name": "stdout",
     "output_type": "stream",
     "text": [
      "[{'algo': 'SVD', 'i': 0, 'RSME': 0.8564960569131546}, {'algo': 'SVD', 'i': 1, 'RSME': 0.8572959176463312}, {'algo': 'CoClustering', 'i': 2, 'RSME': 0.9170833490704514}, {'algo': 'CoClustering', 'i': 3, 'RSME': 0.9141320084749732}]\n"
     ]
    },
    {
     "data": {
      "text/html": [
       "<div>\n",
       "<style scoped>\n",
       "    .dataframe tbody tr th:only-of-type {\n",
       "        vertical-align: middle;\n",
       "    }\n",
       "\n",
       "    .dataframe tbody tr th {\n",
       "        vertical-align: top;\n",
       "    }\n",
       "\n",
       "    .dataframe thead th {\n",
       "        text-align: right;\n",
       "    }\n",
       "</style>\n",
       "<table border=\"1\" class=\"dataframe\">\n",
       "  <thead>\n",
       "    <tr style=\"text-align: right;\">\n",
       "      <th></th>\n",
       "      <th>algo</th>\n",
       "      <th>i</th>\n",
       "      <th>RSME</th>\n",
       "    </tr>\n",
       "  </thead>\n",
       "  <tbody>\n",
       "    <tr>\n",
       "      <th>0</th>\n",
       "      <td>SVD</td>\n",
       "      <td>0</td>\n",
       "      <td>0.856496</td>\n",
       "    </tr>\n",
       "    <tr>\n",
       "      <th>1</th>\n",
       "      <td>SVD</td>\n",
       "      <td>1</td>\n",
       "      <td>0.857296</td>\n",
       "    </tr>\n",
       "    <tr>\n",
       "      <th>2</th>\n",
       "      <td>CoClustering</td>\n",
       "      <td>2</td>\n",
       "      <td>0.917083</td>\n",
       "    </tr>\n",
       "    <tr>\n",
       "      <th>3</th>\n",
       "      <td>CoClustering</td>\n",
       "      <td>3</td>\n",
       "      <td>0.914132</td>\n",
       "    </tr>\n",
       "  </tbody>\n",
       "</table>\n",
       "</div>"
      ],
      "text/plain": [
       "           algo  i      RSME\n",
       "0           SVD  0  0.856496\n",
       "1           SVD  1  0.857296\n",
       "2  CoClustering  2  0.917083\n",
       "3  CoClustering  3  0.914132"
      ]
     },
     "execution_count": 14,
     "metadata": {},
     "output_type": "execute_result"
    }
   ],
   "source": [
    "#print(accuracy_results)\n",
    "df = pd.DataFrame(accuracy_results)\n",
    "df.head()"
   ]
  },
  {
   "cell_type": "code",
   "execution_count": 16,
   "metadata": {},
   "outputs": [
    {
     "data": {
      "image/png": "[encoded data removed]",
      "text/plain": [
       "<Figure size 432x288 with 1 Axes>"
      ]
     },
     "metadata": {
      "needs_background": "light"
     },
     "output_type": "display_data"
    }
   ],
   "source": [
    "ax = sns.barplot(x=\"i\", y=\"RSME\", hue=\"algo\", data=df)"
   ]
  }
 ],
 "metadata": {
  "kernelspec": {
   "display_name": "Python 3",
   "language": "python",
   "name": "python3"
  },
  "language_info": {
   "codemirror_mode": {
    "name": "ipython",
    "version": 3
   },
   "file_extension": ".py",
   "mimetype": "text/x-python",
   "name": "python",
   "nbconvert_exporter": "python",
   "pygments_lexer": "ipython3",
   "version": "3.7.6"
  }
 },
 "nbformat": 4,
 "nbformat_minor": 4
}
