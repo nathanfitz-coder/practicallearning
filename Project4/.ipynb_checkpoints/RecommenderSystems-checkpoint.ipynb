{
 "cells": [
  {
   "cell_type": "code",
   "execution_count": 1,
   "metadata": {},
   "outputs": [],
   "source": [
    "import pandas as pd\n",
    "import seaborn as sns\n",
    "import numpy as np\n",
    "import sys\n",
    "import time\n",
    "import json\n",
    "from collections import defaultdict\n",
    "from surprise.model_selection import cross_validate\n",
    "from surprise.model_selection import train_test_split\n",
    "from surprise import accuracy\n",
    "from surprise import SVD, CoClustering\n",
    "from surprise import Dataset, Reader\n",
    "from sqlalchemy import create_engine"
   ]
  },
  {
   "cell_type": "markdown",
   "metadata": {},
   "source": [
    "# System I"
   ]
  },
  {
   "cell_type": "markdown",
   "metadata": {},
   "source": [
    "For System 1 we recommend movies based only on their genre. The two recommender methods within this system will be finding the movies for that genre that have the highest weighted rating and the highest \"trendy\" weighted rating. The equation for weighted rating is given by:"
   ]
  },
  {
   "cell_type": "markdown",
   "metadata": {},
   "source": [
    "$$r_w = \\frac{m_\\mu * n}{n + 90pct} + \\frac{\\mu * 90pct}{n + 90pct}$$"
   ]
  },
  {
   "cell_type": "markdown",
   "metadata": {},
   "source": [
    "Where $m_\\mu$ is the average rating for the movie, $n$ is the number of ratings for the movie, $\\mu$ is the average rating among all movies, and $90pct$ is the 90th percentile of the number of ratings. "
   ]
  },
  {
   "cell_type": "markdown",
   "metadata": {},
   "source": [
    "A movie's \"trendy\" rating is simply its weighted rating times a time coefficient, except we use 50 percentile instead of 90. The time coeficient is a number between 0 and 1 where all movies released in the latest year in the database have a coeffcicient of 1 and all movies released in the earliest year in the database have a coefficient of 0. the function for updating the database with the weighted and trendy reviews is as follows:"
   ]
  },
  {
   "cell_type": "code",
   "execution_count": null,
   "metadata": {},
   "outputs": [],
   "source": [
    "def movie_weights():\n",
    "    e = create_engine(\"sqlite:///moviereviews.db\")\n",
    "    movies = pd.DataFrame(e.execute(\"SELECT MovieID, Title, Genre FROM movies\").fetchall()).rename(columns={0: 'MovieID', 1: 'Title', 2:'Genres'})\n",
    "    ratings = pd.DataFrame(e.execute(\"SELECT * FROM ratings\").fetchall()).rename(columns={0: 'UserID', 1: 'MovieID', 2:'Rating', 3:'Timestamp'})\n",
    "    movies['Year'] = movies['Title'].apply(lambda x: x[x.rfind(\"(\")+1:-1]).apply(int) \n",
    "    firsttime = min(ratings['Timestamp'])\n",
    "    lasttime = max(ratings['Timestamp'])\n",
    "    \n",
    "    def time_to_coef(timestamp):\n",
    "        return (timestamp-firsttime)/(lasttime-firsttime)\n",
    "    \n",
    "    ratings['time_coef'] = ratings['Timestamp'].apply(time_to_coef)\n",
    "    firstyear = min(movies['Year'])\n",
    "    lastyear = max(movies['Year'])\n",
    "    \n",
    "    def year_to_coef(currentyear):\n",
    "        return (currentyear-firstyear)/(lastyear-firstyear)\n",
    "    \n",
    "    movies['year_coef'] = movies['Year'].apply(year_to_coef)\n",
    "    movies_genres = pd.concat([pd.Series(row['MovieID'], row['Genres'].split('|')) for _, row in movies.iterrows()]).reset_index().rename(columns={'index': 'Genre', 0: 'MovieID'})\n",
    "    avg_time_coef = ratings.groupby(by=['MovieID'])['time_coef'].agg([np.mean]).rename(columns={'mean': 'avg_time_coef'})\n",
    "    movie_grouped = ratings.groupby(by=['MovieID'])['Rating'].agg([np.sum, np.mean, np.std,np.ma.count]).merge(movies, on='MovieID')\n",
    "    ninty_pct = np.percentile(movie_grouped['count'],90)\n",
    "    fifty_pct = np.percentile(movie_grouped['count'],50)\n",
    "    meanreview = np.mean(ratings['Rating'])\n",
    "    \n",
    "    #calculating weighted review\n",
    "    movie_grouped['weighted_review'] = (movie_grouped['mean']*movie_grouped['count']/(movie_grouped['count']+ninty_pct)) + (meanreview*ninty_pct/(movie_grouped['count']+ninty_pct))\n",
    "    \n",
    "    #calculating trendy reviews\n",
    "    movie_grouped['trendy_review'] = movie_grouped['year_coef']*((movie_grouped['mean']*movie_grouped['count']/(movie_grouped['count']+fifty_pct)) + (meanreview*fifty_pct/(movie_grouped['count']+fifty_pct)))\n",
    "    movie_grouped = movie_grouped.rename(columns={'weighted_review': 'WeightedRating', 'trendy_review': 'TrendRating', 'Genres':'Genre'})\n",
    "    movie_grouped[['MovieID','Title','Genre','WeightedRating','TrendRating']].to_sql('movies', if_exists='replace', con=e,index=False)"
   ]
  },
  {
   "cell_type": "markdown",
   "metadata": {},
   "source": [
    "Once the database has been updated with weights it can be easily queried to find the top movies for a given genre. The query below can be used to find the best movies in the 'Sci-Fi' genre using both weighted and trendy recommender systems:"
   ]
  },
  {
   "cell_type": "code",
   "execution_count": 9,
   "metadata": {},
   "outputs": [],
   "source": [
    "query = \"\"\"\n",
    "SELECT MovieID\n",
    "  ,Title\n",
    "  ,Type\n",
    "  FROM (\n",
    "  Select\n",
    "  movies.MovieID\n",
    "  ,Title\n",
    "  ,'Weighted' Type\n",
    "  ,movies.WeightedRating\n",
    "  FROM movies\n",
    "  INNER JOIN movie_genres\n",
    "  ON movies.MovieID = movie_genres.MovieID\n",
    "  WHERE movie_genres.Genre = 'Sci-Fi'\n",
    "  ORDER BY movies.WeightedRating desc\n",
    "  LIMIT 10) a\n",
    "\n",
    "  UNION ALL\n",
    "\n",
    "  SELECT MovieID\n",
    "  ,Title\n",
    "  ,Type\n",
    "  FROM (\n",
    "  Select\n",
    "  movies.MovieID\n",
    "  ,Title\n",
    "  ,'Trendy' Type\n",
    "  ,movies.TrendRating\n",
    "  FROM movies\n",
    "  INNER JOIN movie_genres\n",
    "  ON movies.MovieID = movie_genres.MovieID\n",
    "  WHERE movie_genres.Genre = 'Sci-Fi'\n",
    "  ORDER BY movies.TrendRating desc\n",
    "  LIMIT 10) b\n",
    "\"\"\""
   ]
  },
  {
   "cell_type": "code",
   "execution_count": 10,
   "metadata": {},
   "outputs": [
    {
     "data": {
      "text/html": [
       "<div>\n",
       "<style scoped>\n",
       "    .dataframe tbody tr th:only-of-type {\n",
       "        vertical-align: middle;\n",
       "    }\n",
       "\n",
       "    .dataframe tbody tr th {\n",
       "        vertical-align: top;\n",
       "    }\n",
       "\n",
       "    .dataframe thead th {\n",
       "        text-align: right;\n",
       "    }\n",
       "</style>\n",
       "<table border=\"1\" class=\"dataframe\">\n",
       "  <thead>\n",
       "    <tr style=\"text-align: right;\">\n",
       "      <th></th>\n",
       "      <th>MovieID</th>\n",
       "      <th>Title</th>\n",
       "      <th>Type</th>\n",
       "    </tr>\n",
       "  </thead>\n",
       "  <tbody>\n",
       "    <tr>\n",
       "      <th>0</th>\n",
       "      <td>260</td>\n",
       "      <td>Star Wars: Episode IV - A New Hope (1977)</td>\n",
       "      <td>Weighted</td>\n",
       "    </tr>\n",
       "    <tr>\n",
       "      <th>1</th>\n",
       "      <td>2571</td>\n",
       "      <td>Matrix, The (1999)</td>\n",
       "      <td>Weighted</td>\n",
       "    </tr>\n",
       "    <tr>\n",
       "      <th>2</th>\n",
       "      <td>1196</td>\n",
       "      <td>Star Wars: Episode V - The Empire Strikes Back...</td>\n",
       "      <td>Weighted</td>\n",
       "    </tr>\n",
       "    <tr>\n",
       "      <th>3</th>\n",
       "      <td>750</td>\n",
       "      <td>Dr. Strangelove or: How I Learned to Stop Worr...</td>\n",
       "      <td>Weighted</td>\n",
       "    </tr>\n",
       "    <tr>\n",
       "      <th>4</th>\n",
       "      <td>541</td>\n",
       "      <td>Blade Runner (1982)</td>\n",
       "      <td>Weighted</td>\n",
       "    </tr>\n",
       "    <tr>\n",
       "      <th>5</th>\n",
       "      <td>1214</td>\n",
       "      <td>Alien (1979)</td>\n",
       "      <td>Weighted</td>\n",
       "    </tr>\n",
       "    <tr>\n",
       "      <th>6</th>\n",
       "      <td>1240</td>\n",
       "      <td>Terminator, The (1984)</td>\n",
       "      <td>Weighted</td>\n",
       "    </tr>\n",
       "    <tr>\n",
       "      <th>7</th>\n",
       "      <td>1200</td>\n",
       "      <td>Aliens (1986)</td>\n",
       "      <td>Weighted</td>\n",
       "    </tr>\n",
       "    <tr>\n",
       "      <th>8</th>\n",
       "      <td>589</td>\n",
       "      <td>Terminator 2: Judgment Day (1991)</td>\n",
       "      <td>Weighted</td>\n",
       "    </tr>\n",
       "    <tr>\n",
       "      <th>9</th>\n",
       "      <td>1210</td>\n",
       "      <td>Star Wars: Episode VI - Return of the Jedi (1983)</td>\n",
       "      <td>Weighted</td>\n",
       "    </tr>\n",
       "    <tr>\n",
       "      <th>10</th>\n",
       "      <td>2571</td>\n",
       "      <td>Matrix, The (1999)</td>\n",
       "      <td>Trendy</td>\n",
       "    </tr>\n",
       "    <tr>\n",
       "      <th>11</th>\n",
       "      <td>3793</td>\n",
       "      <td>X-Men (2000)</td>\n",
       "      <td>Trendy</td>\n",
       "    </tr>\n",
       "    <tr>\n",
       "      <th>12</th>\n",
       "      <td>3175</td>\n",
       "      <td>Galaxy Quest (1999)</td>\n",
       "      <td>Trendy</td>\n",
       "    </tr>\n",
       "    <tr>\n",
       "      <th>13</th>\n",
       "      <td>29</td>\n",
       "      <td>City of Lost Children, The (1995)</td>\n",
       "      <td>Trendy</td>\n",
       "    </tr>\n",
       "    <tr>\n",
       "      <th>14</th>\n",
       "      <td>741</td>\n",
       "      <td>Ghost in the Shell (Kokaku kidotai) (1995)</td>\n",
       "      <td>Trendy</td>\n",
       "    </tr>\n",
       "    <tr>\n",
       "      <th>15</th>\n",
       "      <td>1748</td>\n",
       "      <td>Dark City (1998)</td>\n",
       "      <td>Trendy</td>\n",
       "    </tr>\n",
       "    <tr>\n",
       "      <th>16</th>\n",
       "      <td>32</td>\n",
       "      <td>Twelve Monkeys (1995)</td>\n",
       "      <td>Trendy</td>\n",
       "    </tr>\n",
       "    <tr>\n",
       "      <th>17</th>\n",
       "      <td>1921</td>\n",
       "      <td>Pi (1998)</td>\n",
       "      <td>Trendy</td>\n",
       "    </tr>\n",
       "    <tr>\n",
       "      <th>18</th>\n",
       "      <td>1584</td>\n",
       "      <td>Contact (1997)</td>\n",
       "      <td>Trendy</td>\n",
       "    </tr>\n",
       "    <tr>\n",
       "      <th>19</th>\n",
       "      <td>1580</td>\n",
       "      <td>Men in Black (1997)</td>\n",
       "      <td>Trendy</td>\n",
       "    </tr>\n",
       "  </tbody>\n",
       "</table>\n",
       "</div>"
      ],
      "text/plain": [
       "    MovieID                                              Title      Type\n",
       "0       260          Star Wars: Episode IV - A New Hope (1977)  Weighted\n",
       "1      2571                                 Matrix, The (1999)  Weighted\n",
       "2      1196  Star Wars: Episode V - The Empire Strikes Back...  Weighted\n",
       "3       750  Dr. Strangelove or: How I Learned to Stop Worr...  Weighted\n",
       "4       541                                Blade Runner (1982)  Weighted\n",
       "5      1214                                       Alien (1979)  Weighted\n",
       "6      1240                             Terminator, The (1984)  Weighted\n",
       "7      1200                                      Aliens (1986)  Weighted\n",
       "8       589                  Terminator 2: Judgment Day (1991)  Weighted\n",
       "9      1210  Star Wars: Episode VI - Return of the Jedi (1983)  Weighted\n",
       "10     2571                                 Matrix, The (1999)    Trendy\n",
       "11     3793                                       X-Men (2000)    Trendy\n",
       "12     3175                                Galaxy Quest (1999)    Trendy\n",
       "13       29                  City of Lost Children, The (1995)    Trendy\n",
       "14      741         Ghost in the Shell (Kokaku kidotai) (1995)    Trendy\n",
       "15     1748                                   Dark City (1998)    Trendy\n",
       "16       32                              Twelve Monkeys (1995)    Trendy\n",
       "17     1921                                          Pi (1998)    Trendy\n",
       "18     1584                                     Contact (1997)    Trendy\n",
       "19     1580                                Men in Black (1997)    Trendy"
      ]
     },
     "execution_count": 10,
     "metadata": {},
     "output_type": "execute_result"
    }
   ],
   "source": [
    "e = create_engine(\"sqlite:///api/moviereviews.db\")\n",
    "movies = pd.DataFrame(e.execute(query).fetchall()).rename(columns={0: 'MovieID', 1: 'Title', 2:'Type'})\n",
    "movies.head(20)"
   ]
  },
  {
   "cell_type": "markdown",
   "metadata": {},
   "source": [
    "-------------------------------------------------------------------------------------------------------------"
   ]
  },
  {
   "cell_type": "markdown",
   "metadata": {},
   "source": [
    "# System II"
   ]
  },
  {
   "cell_type": "markdown",
   "metadata": {},
   "source": [
    "For system II we recommend movies based on the movies a user has seen, how the user rates those movies, and ratings for every other user. All available ratings can be used to group together similar movies as well as similar users to identify what movies a given user might like to see next. For our collaborative recommendation system we used python's \"surprise\" package which contains multiple algorthms which can be used to provide recommendations. The two algorithms I chose are \"SVD\" and \"CoClustering\". "
   ]
  },
  {
   "cell_type": "markdown",
   "metadata": {},
   "source": [
    "SVD stands for \"singluar value decomposition\" which is a linear algebra method of decomposing a rectangular matrix into three matrixies. If we run SVD on a matrix of movie ratings by user, the resulting three matrixes can be thought of as the affinity of each user to a given feature (genre, director etc...), the sigificance of each feature, and the amount of each feature contained in each movie. Since the matrix of user/movie ratings is very sparse, we cannot directly use SVD. Instead, we must estimate it with stocastic gradient decent. The estimated rating that a user will give an item is given by:"
   ]
  },
  {
   "cell_type": "markdown",
   "metadata": {},
   "source": [
    "$$\\hat{r}_{ui} = \\mu + b_u + b_i + q_i^T p_u$$"
   ]
  },
  {
   "cell_type": "markdown",
   "metadata": {},
   "source": [
    "The unkowns of which can be estimated by minimizing the following expression:"
   ]
  },
  {
   "cell_type": "markdown",
   "metadata": {},
   "source": [
    "$$\\sum_{r_{ui}\\epsilon R_{itrain}}{(r_{ui}-\\hat{r}_{ui})^2 + \\lambda (b_i^2 + b_u^2 + \\|q_i\\|^2 + \\|p_u\\|^2)}$$"
   ]
  },
  {
   "cell_type": "code",
   "execution_count": null,
   "metadata": {},
   "outputs": [],
   "source": []
  },
  {
   "cell_type": "code",
   "execution_count": null,
   "metadata": {},
   "outputs": [],
   "source": []
  },
  {
   "cell_type": "code",
   "execution_count": null,
   "metadata": {},
   "outputs": [],
   "source": []
  },
  {
   "cell_type": "code",
   "execution_count": null,
   "metadata": {},
   "outputs": [],
   "source": []
  },
  {
   "cell_type": "code",
   "execution_count": 3,
   "metadata": {},
   "outputs": [],
   "source": [
    "e = create_engine(\"sqlite:///api/moviereviews.db\")\n",
    "\n",
    "ratings = pd.DataFrame(e.execute(\"SELECT UserID,MovieID,Rating FROM ratings\").fetchall()).rename(columns={0: 'UserID', 1: 'MovieID', 2:'Rating'})\n",
    "reader = Reader()\n",
    "data = Dataset.load_from_df(ratings, reader)\n"
   ]
  },
  {
   "cell_type": "code",
   "execution_count": 11,
   "metadata": {},
   "outputs": [
    {
     "name": "stdout",
     "output_type": "stream",
     "text": [
      "RMSE: 0.8580\n",
      "RMSE: 0.9178\n"
     ]
    }
   ],
   "source": [
    "\n",
    "\n",
    "# Run 10-fold cross-validation and print results.\n",
    "\n",
    "#cross_validate(algo, data, measures=['RMSE'], cv=10,  verbose=True);\n",
    "\n",
    "\n",
    "accuracy_results=[]\n",
    "\n",
    "for i in range(20):\n",
    "    if i < 10:\n",
    "        algo = SVD(reg_all=0.05, lr_all=0.007, n_epochs=30)\n",
    "        algo_name = 'SVD'\n",
    "    else:\n",
    "        algo = CoClustering()\n",
    "        algo_name = 'CoClustering'\n",
    "\n",
    "    trainset, testset = train_test_split(data, test_size=.25)\n",
    "\n",
    "    # Train the algorithm on the trainset, and predict ratings for the testset\n",
    "    algofit=algo.fit(trainset)\n",
    "    predictions = algo.test(testset)\n",
    "\n",
    "    # Then compute RMSE\n",
    "    accuracy_results.append({'algo': algo_name, 'i': i, 'RSME':accuracy.rmse(predictions)})\n",
    "\n",
    "\n"
   ]
  },
  {
   "cell_type": "code",
   "execution_count": 5,
   "metadata": {},
   "outputs": [
    {
     "data": {
      "text/html": [
       "<div>\n",
       "<style scoped>\n",
       "    .dataframe tbody tr th:only-of-type {\n",
       "        vertical-align: middle;\n",
       "    }\n",
       "\n",
       "    .dataframe tbody tr th {\n",
       "        vertical-align: top;\n",
       "    }\n",
       "\n",
       "    .dataframe thead th {\n",
       "        text-align: right;\n",
       "    }\n",
       "</style>\n",
       "<table border=\"1\" class=\"dataframe\">\n",
       "  <thead>\n",
       "    <tr style=\"text-align: right;\">\n",
       "      <th></th>\n",
       "      <th>algo</th>\n",
       "      <th>i</th>\n",
       "      <th>RSME</th>\n",
       "    </tr>\n",
       "  </thead>\n",
       "  <tbody>\n",
       "    <tr>\n",
       "      <th>0</th>\n",
       "      <td>SVD</td>\n",
       "      <td>0</td>\n",
       "      <td>0.856746</td>\n",
       "    </tr>\n",
       "    <tr>\n",
       "      <th>1</th>\n",
       "      <td>SVD</td>\n",
       "      <td>1</td>\n",
       "      <td>0.857166</td>\n",
       "    </tr>\n",
       "    <tr>\n",
       "      <th>2</th>\n",
       "      <td>SVD</td>\n",
       "      <td>2</td>\n",
       "      <td>0.856739</td>\n",
       "    </tr>\n",
       "    <tr>\n",
       "      <th>3</th>\n",
       "      <td>SVD</td>\n",
       "      <td>3</td>\n",
       "      <td>0.855731</td>\n",
       "    </tr>\n",
       "    <tr>\n",
       "      <th>4</th>\n",
       "      <td>SVD</td>\n",
       "      <td>4</td>\n",
       "      <td>0.858269</td>\n",
       "    </tr>\n",
       "    <tr>\n",
       "      <th>5</th>\n",
       "      <td>SVD</td>\n",
       "      <td>5</td>\n",
       "      <td>0.855241</td>\n",
       "    </tr>\n",
       "    <tr>\n",
       "      <th>6</th>\n",
       "      <td>SVD</td>\n",
       "      <td>6</td>\n",
       "      <td>0.857058</td>\n",
       "    </tr>\n",
       "    <tr>\n",
       "      <th>7</th>\n",
       "      <td>SVD</td>\n",
       "      <td>7</td>\n",
       "      <td>0.856978</td>\n",
       "    </tr>\n",
       "    <tr>\n",
       "      <th>8</th>\n",
       "      <td>SVD</td>\n",
       "      <td>8</td>\n",
       "      <td>0.857559</td>\n",
       "    </tr>\n",
       "    <tr>\n",
       "      <th>9</th>\n",
       "      <td>SVD</td>\n",
       "      <td>9</td>\n",
       "      <td>0.856573</td>\n",
       "    </tr>\n",
       "    <tr>\n",
       "      <th>10</th>\n",
       "      <td>CoClustering</td>\n",
       "      <td>10</td>\n",
       "      <td>0.914948</td>\n",
       "    </tr>\n",
       "    <tr>\n",
       "      <th>11</th>\n",
       "      <td>CoClustering</td>\n",
       "      <td>11</td>\n",
       "      <td>0.913915</td>\n",
       "    </tr>\n",
       "    <tr>\n",
       "      <th>12</th>\n",
       "      <td>CoClustering</td>\n",
       "      <td>12</td>\n",
       "      <td>0.916947</td>\n",
       "    </tr>\n",
       "    <tr>\n",
       "      <th>13</th>\n",
       "      <td>CoClustering</td>\n",
       "      <td>13</td>\n",
       "      <td>0.915689</td>\n",
       "    </tr>\n",
       "    <tr>\n",
       "      <th>14</th>\n",
       "      <td>CoClustering</td>\n",
       "      <td>14</td>\n",
       "      <td>0.915066</td>\n",
       "    </tr>\n",
       "    <tr>\n",
       "      <th>15</th>\n",
       "      <td>CoClustering</td>\n",
       "      <td>15</td>\n",
       "      <td>0.921543</td>\n",
       "    </tr>\n",
       "    <tr>\n",
       "      <th>16</th>\n",
       "      <td>CoClustering</td>\n",
       "      <td>16</td>\n",
       "      <td>0.915131</td>\n",
       "    </tr>\n",
       "    <tr>\n",
       "      <th>17</th>\n",
       "      <td>CoClustering</td>\n",
       "      <td>17</td>\n",
       "      <td>0.918794</td>\n",
       "    </tr>\n",
       "    <tr>\n",
       "      <th>18</th>\n",
       "      <td>CoClustering</td>\n",
       "      <td>18</td>\n",
       "      <td>0.916032</td>\n",
       "    </tr>\n",
       "    <tr>\n",
       "      <th>19</th>\n",
       "      <td>CoClustering</td>\n",
       "      <td>19</td>\n",
       "      <td>0.925296</td>\n",
       "    </tr>\n",
       "  </tbody>\n",
       "</table>\n",
       "</div>"
      ],
      "text/plain": [
       "            algo   i      RSME\n",
       "0            SVD   0  0.856746\n",
       "1            SVD   1  0.857166\n",
       "2            SVD   2  0.856739\n",
       "3            SVD   3  0.855731\n",
       "4            SVD   4  0.858269\n",
       "5            SVD   5  0.855241\n",
       "6            SVD   6  0.857058\n",
       "7            SVD   7  0.856978\n",
       "8            SVD   8  0.857559\n",
       "9            SVD   9  0.856573\n",
       "10  CoClustering  10  0.914948\n",
       "11  CoClustering  11  0.913915\n",
       "12  CoClustering  12  0.916947\n",
       "13  CoClustering  13  0.915689\n",
       "14  CoClustering  14  0.915066\n",
       "15  CoClustering  15  0.921543\n",
       "16  CoClustering  16  0.915131\n",
       "17  CoClustering  17  0.918794\n",
       "18  CoClustering  18  0.916032\n",
       "19  CoClustering  19  0.925296"
      ]
     },
     "execution_count": 5,
     "metadata": {},
     "output_type": "execute_result"
    }
   ],
   "source": [
    "#print(accuracy_results)\n",
    "df = pd.DataFrame(accuracy_results)\n",
    "df.head(20)"
   ]
  },
  {
   "cell_type": "code",
   "execution_count": 6,
   "metadata": {},
   "outputs": [
    {
     "data": {
      "image/png": "[encoded data removed]",
      "text/plain": [
       "<Figure size 432x288 with 1 Axes>"
      ]
     },
     "metadata": {
      "needs_background": "light"
     },
     "output_type": "display_data"
    }
   ],
   "source": [
    "ax = sns.barplot(x=\"i\", y=\"RSME\", hue=\"algo\", data=df)"
   ]
  },
  {
   "cell_type": "code",
   "execution_count": null,
   "metadata": {},
   "outputs": [],
   "source": []
  }
 ],
 "metadata": {
  "kernelspec": {
   "display_name": "Python 3",
   "language": "python",
   "name": "python3"
  },
  "language_info": {
   "codemirror_mode": {
    "name": "ipython",
    "version": 3
   },
   "file_extension": ".py",
   "mimetype": "text/x-python",
   "name": "python",
   "nbconvert_exporter": "python",
   "pygments_lexer": "ipython3",
   "version": "3.7.6"
  }
 },
 "nbformat": 4,
 "nbformat_minor": 4
}
